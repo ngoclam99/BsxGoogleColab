{
 "cells": [
  {
   "cell_type": "markdown",
   "metadata": {
    "id": "title"
   },
   "source": [
    "# 🚗 Nhận Dạng Biển Số Xe Việt Nam\n",
    "\n",
    "## Vietnamese License Plate Recognition - Simple Version\n",
    "\n",
    "### 🎯 Tính năng:\n",
    "- Phát hiện biển số xe trong ảnh\n",
    "- Nhận dạng ký tự và số trên biển số\n",
    "- Hỗ trợ biển số 1 dòng và 2 dòng\n",
    "\n",
    "### 📋 Hướng dẫn:\n",
    "1. **Chọn GPU Runtime**: Runtime → Change runtime type → GPU\n",
    "2. **Chạy từng cell theo thứ tự** từ trên xuống dưới\n",
    "3. **Đợi cell hoàn thành** trước khi chạy cell tiếp theo\n",
    "\n",
    "---"
   ]
  },
  {
   "cell_type": "markdown",
   "metadata": {
    "id": "setup"
   },
   "source": [
    "## 1. Clone Repository và Setup"
   ]
  },
  {
   "cell_type": "code",
   "execution_count": null,
   "metadata": {
    "id": "clone_setup"
   },
   "outputs": [],
   "source": [
    "import os\n",
    "import sys\n",
    "\n",
    "# Clone repository\n",
    "if not os.path.exists('BsxGoogleColab'):\n",
    "    print(\"🔄 Cloning repository...\")\n",
    "    !git clone https://github.com/ngoclam99/BsxGoogleColab.git\n",
    "    print(\"✅ Clone successful!\")\n",
    "else:\n",
    "    print(\"✅ Repository already exists!\")\n",
    "\n",
    "# Change to project directory\n",
    "os.chdir('BsxGoogleColab')\n",
    "print(f\"📁 Current directory: {os.getcwd()}\")\n",
    "\n",
    "# Add to Python path\n",
    "if os.getcwd() not in sys.path:\n",
    "    sys.path.append(os.getcwd())\n",
    "if os.path.join(os.getcwd(), 'yolov5') not in sys.path:\n",
    "    sys.path.append(os.path.join(os.getcwd(), 'yolov5'))\n",
    "\n",
    "print(\"✅ Setup complete!\")"
   ]
  },
  {
   "cell_type": "markdown",
   "metadata": {
    "id": "install"
   },
   "source": [
    "## 2. Install Dependencies từ requirements.txt"
   ]
  },
  {
   "cell_type": "code",
   "execution_count": null,
   "metadata": {
    "id": "install_requirements"
   },
   "outputs": [],
   "source": [
    "# Install dependencies from requirements.txt\n",
    "print(\"📦 Installing dependencies from requirement.txt...\")\n",
    "!pip install -r requirement.txt\n",
    "\n",
    "# Install additional packages for Colab\n",
    "print(\"📦 Installing additional Colab packages...\")\n",
    "!pip install -q ipywidgets\n",
    "\n",
    "print(\"✅ All dependencies installed!\")"
   ]
  },
  {
   "cell_type": "markdown",
   "metadata": {
    "id": "imports"
   },
   "source": [
    "## 3. Import Libraries và Check Files"
   ]
  },
  {
   "cell_type": "code",
   "execution_count": null,
   "metadata": {
    "id": "import_check"
   },
   "outputs": [],
   "source": [
    "# Import all required libraries\n",
    "import cv2\n",
    "import torch\n",
    "import numpy as np\n",
    "import matplotlib.pyplot as plt\n",
    "import glob\n",
    "import os\n",
    "import sys\n",
    "from PIL import Image\n",
    "import warnings\n",
    "warnings.filterwarnings('ignore')\n",
    "\n",
    "print(\"📚 Libraries imported:\")\n",
    "print(f\"   - OpenCV: {cv2.__version__}\")\n",
    "print(f\"   - PyTorch: {torch.__version__}\")\n",
    "print(f\"   - NumPy: {np.__version__}\")\n",
    "\n",
    "# Import helper functions\n",
    "try:\n",
    "    import function.utils_rotate as utils_rotate\n",
    "    import function.helper as helper\n",
    "    print(\"✅ Helper functions imported successfully!\")\n",
    "except ImportError as e:\n",
    "    print(f\"❌ Error importing helpers: {e}\")\n",
    "    print(\"💡 Make sure repository structure is correct\")\n",
    "\n",
    "# Check required files\n",
    "required_files = {\n",
    "    'LP Detector Model': 'model/LP_detector.pt',\n",
    "    'LP OCR Model': 'model/LP_ocr.pt', \n",
    "    'YOLOv5 Directory': 'yolov5',\n",
    "    'Test Images': 'test_image',\n",
    "    'Requirements': 'requirement.txt'\n",
    "}\n",
    "\n",
    "print(\"\\n🔍 Checking required files...\")\n",
    "all_files_ok = True\n",
    "for name, path in required_files.items():\n",
    "    if os.path.exists(path):\n",
    "        if os.path.isfile(path):\n",
    "            size = os.path.getsize(path) / (1024*1024)  # MB\n",
    "            print(f\"✅ {name}: {path} ({size:.1f} MB)\")\n",
    "        else:\n",
    "            count = len(os.listdir(path)) if os.path.isdir(path) else 0\n",
    "            print(f\"✅ {name}: {path} ({count} items)\")\n",
    "    else:\n",
    "        print(f\"❌ {name}: {path} - MISSING\")\n",
    "        all_files_ok = False\n",
    "\n",
    "if all_files_ok:\n",
    "    print(\"\\n🟢 All required files are ready!\")\n",
    "else:\n",
    "    print(\"\\n🔴 Some files are missing! Check your repository.\")\n",
    "\n",
    "print(\"✅ Import and check complete!\")"
   ]
  },
  {
   "cell_type": "markdown",
   "metadata": {
    "id": "models"
   },
   "source": [
    "## 4. Load YOLOv5 Models"
   ]
  },
  {
   "cell_type": "code",
   "execution_count": null,
   "metadata": {
    "id": "load_models"
   },
   "outputs": [],
   "source": [
    "# Load YOLOv5 models\n",
    "print(\"🤖 Loading YOLOv5 models...\")\n",
    "print(\"⏳ This may take 2-3 minutes for first time...\")\n",
    "\n",
    "try:\n",
    "    # Load License Plate Detection model\n",
    "    print(\"📥 Loading License Plate Detection model...\")\n",
    "    yolo_LP_detect = torch.hub.load('yolov5', 'custom', \n",
    "                                   path='model/LP_detector.pt', \n",
    "                                   force_reload=True, \n",
    "                                   source='local')\n",
    "    print(\"✅ LP Detection model loaded!\")\n",
    "    \n",
    "    # Load License Plate OCR model\n",
    "    print(\"📥 Loading License Plate OCR model...\")\n",
    "    yolo_license_plate = torch.hub.load('yolov5', 'custom', \n",
    "                                       path='model/LP_ocr.pt', \n",
    "                                       force_reload=True, \n",
    "                                       source='local')\n",
    "    print(\"✅ LP OCR model loaded!\")\n",
    "    \n",
    "    # Set confidence threshold\n",
    "    yolo_license_plate.conf = 0.60\n",
    "    print(\"🔧 Confidence threshold set to 0.60\")\n",
    "    \n",
    "    print(\"\\n🎉 ALL MODELS LOADED SUCCESSFULLY!\")\n",
    "    print(\"🟢 Ready for license plate recognition!\")\n",
    "    \n",
    "except Exception as e:\n",
    "    print(f\"\\n❌ ERROR LOADING MODELS: {e}\")\n",
    "    print(\"\\n💡 SOLUTIONS:\")\n",
    "    print(\"   1. Runtime → Restart Runtime and run again\")\n",
    "    print(\"   2. Make sure you selected GPU runtime\")\n",
    "    print(\"   3. Check if model files exist in repository\")\n",
    "    print(\"   4. Try running cells in order from the beginning\")\n",
    "    \n",
    "    # Set variables to None for error handling\n",
    "    yolo_LP_detect = None\n",
    "    yolo_license_plate = None"
   ]
  },
  {
   "cell_type": "markdown",
   "metadata": {
    "id": "function"
   },
   "source": [
    "## 5. Detection Function"
   ]
  },
  {
   "cell_type": "code",
   "execution_count": null,
   "metadata": {
    "id": "detect_function"
   },
   "outputs": [],
   "source": [
    "def detect_license_plate(image_path):\n",
    "    \"\"\"Detect and recognize license plate\"\"\"\n",
    "    \n",
    "    # Check if models are loaded\n",
    "    if 'yolo_LP_detect' not in globals() or 'yolo_license_plate' not in globals():\n",
    "        print(\"❌ Models not loaded! Please run the model loading cell first.\")\n",
    "        return None, None\n",
    "        \n",
    "    if yolo_LP_detect is None or yolo_license_plate is None:\n",
    "        print(\"❌ Models failed to load! Please check the model loading cell.\")\n",
    "        return None, None\n",
    "    \n",
    "    print(f\"🔍 Processing: {image_path}\")\n",
    "    \n",
    "    # Read image\n",
    "    img = cv2.imread(image_path)\n",
    "    if img is None:\n",
    "        print(f\"❌ Cannot read image: {image_path}\")\n",
    "        return None, None\n",
    "    \n",
    "    try:\n",
    "        # Detect license plates\n",
    "        print(\"📸 Detecting license plates...\")\n",
    "        plates = yolo_LP_detect(img, size=640)\n",
    "        list_plates = plates.pandas().xyxy[0].values.tolist()\n",
    "        list_read_plates = set()\n",
    "        \n",
    "        print(f\"🎯 Found {len(list_plates)} license plate regions\")\n",
    "        \n",
    "        if len(list_plates) == 0:\n",
    "            # Try reading entire image\n",
    "            print(\"🔄 Trying to read entire image...\")\n",
    "            lp = helper.read_plate(yolo_license_plate, img)\n",
    "            if lp != \"unknown\":\n",
    "                list_read_plates.add(lp)\n",
    "        else:\n",
    "            # Process each detected plate\n",
    "            for i, plate in enumerate(list_plates):\n",
    "                print(f\"📝 Reading plate {i+1}/{len(list_plates)}...\")\n",
    "                \n",
    "                x = int(plate[0])\n",
    "                y = int(plate[1])\n",
    "                w = int(plate[2] - plate[0])\n",
    "                h = int(plate[3] - plate[1])\n",
    "                \n",
    "                # Crop license plate\n",
    "                crop_img = img[y:y+h, x:x+w]\n",
    "                \n",
    "                # Draw rectangle\n",
    "                cv2.rectangle(img, (x, y), (x+w, y+h), (0, 255, 0), 3)\n",
    "                \n",
    "                # Try different image processing\n",
    "                found = False\n",
    "                for cc in range(0, 2):\n",
    "                    for ct in range(0, 2):\n",
    "                        try:\n",
    "                            processed_img = utils_rotate.deskew(crop_img, cc, ct)\n",
    "                            lp = helper.read_plate(yolo_license_plate, processed_img)\n",
    "                            if lp != \"unknown\":\n",
    "                                list_read_plates.add(lp)\n",
    "                                found = True\n",
    "                                break\n",
    "                        except Exception as e:\n",
    "                            continue\n",
    "                    if found:\n",
    "                        break\n",
    "        \n",
    "        # Add text to image\n",
    "        if list_read_plates:\n",
    "            y_offset = 30\n",
    "            for plate_text in list_read_plates:\n",
    "                cv2.putText(img, str(plate_text), (10, y_offset), \n",
    "                           cv2.FONT_HERSHEY_SIMPLEX, 1, (0, 255, 0), 2)\n",
    "                y_offset += 40\n",
    "        \n",
    "        if list_read_plates:\n",
    "            print(f\"✅ Result: {list_read_plates}\")\n",
    "        else:\n",
    "            print(\"❌ No license plate recognized\")\n",
    "        \n",
    "        return img, list_read_plates\n",
    "        \n",
    "    except Exception as e:\n",
    "        print(f\"❌ Error during detection: {e}\")\n",
    "        return None, None\n",
    "\n",
    "print(\"✅ Detection function ready!\")"
   ]
  },
  {
   "cell_type": "markdown",
   "metadata": {
    "id": "test"
   },
   "source": [
    "## 6. Test với Ảnh Mẫu"
   ]
  },
  {
   "cell_type": "code",
   "execution_count": null,
   "metadata": {
    "id": "test_sample"
   },
   "outputs": [],
   "source": [
    "# Find test images\n",
    "test_images = glob.glob(\"test_image/*.jpg\") + glob.glob(\"test_image/*.png\") + glob.glob(\"test_image/*.jpeg\")\n",
    "\n",
    "if test_images:\n",
    "    print(f\"🖼️ Found {len(test_images)} test images:\")\n",
    "    for i, img in enumerate(test_images):\n",
    "        print(f\"   {i}: {img}\")\n",
    "    \n",
    "    # Test first image (change index to test different images)\n",
    "    test_index = 0\n",
    "    \n",
    "    if test_index < len(test_images):\n",
    "        test_img = test_images[test_index]\n",
    "        \n",
    "        print(f\"\\n🚀 Testing: {test_img}\")\n",
    "        print(\"=\" * 50)\n",
    "        \n",
    "        result_img, detected_plates = detect_license_plate(test_img)\n",
    "        \n",
    "        if result_img is not None:\n",
    "            print(\"\\n\" + \"=\" * 50)\n",
    "            print(f\"🎯 FINAL RESULT: {detected_plates if detected_plates else 'NO DETECTION'}\")\n",
    "            print(\"=\" * 50)\n",
    "            \n",
    "            # Display results\n",
    "            fig, axes = plt.subplots(1, 2, figsize=(15, 6))\n",
    "            \n",
    "            # Original image\n",
    "            original = cv2.imread(test_img)\n",
    "            axes[0].imshow(cv2.cvtColor(original, cv2.COLOR_BGR2RGB))\n",
    "            axes[0].set_title(\"🖼️ Original Image\", fontsize=14, fontweight='bold')\n",
    "            axes[0].axis('off')\n",
    "            \n",
    "            # Result image\n",
    "            axes[1].imshow(cv2.cvtColor(result_img, cv2.COLOR_BGR2RGB))\n",
    "            result_title = f\"🎯 Result: {detected_plates if detected_plates else 'No detection'}\"\n",
    "            axes[1].set_title(result_title, fontsize=14, fontweight='bold')\n",
    "            axes[1].axis('off')\n",
    "            \n",
    "            plt.tight_layout()\n",
    "            plt.show()\n",
    "            \n",
    "            # Summary\n",
    "            print(f\"\\n📊 SUMMARY:\")\n",
    "            print(f\"   📁 File: {test_img}\")\n",
    "            print(f\"   📏 Size: {original.shape[1]}x{original.shape[0]}\")\n",
    "            print(f\"   🔢 Plates found: {len(detected_plates) if detected_plates else 0}\")\n",
    "            if detected_plates:\n",
    "                for i, plate in enumerate(detected_plates, 1):\n",
    "                    print(f\"   🚗 Plate {i}: {plate}\")\n",
    "        else:\n",
    "            print(\"❌ Failed to process image\")\n",
    "    else:\n",
    "        print(f\"❌ Invalid index {test_index}. Choose from 0 to {len(test_images)-1}\")\n",
    "else:\n",
    "    print(\"❌ No test images found in test_image/ directory\")\n",
    "    print(\"💡 Make sure your repository has test images\")"
   ]
  },
  {
   "cell_type": "markdown",
   "metadata": {
    "id": "upload"
   },
   "source": [
    "## 7. Upload Ảnh Của Bạn"
   ]
  },
  {
   "cell_type": "code",
   "execution_count": null,
   "metadata": {
    "id": "upload_test"
   },
   "outputs": [],
   "source": [
    "from google.colab import files\n",
    "\n",
    "def upload_and_test():\n",
    "    \"\"\"Upload and test your own image\"\"\"\n",
    "    print(\"📤 Select image file from your computer...\")\n",
    "    print(\"💡 Supported formats: .jpg, .jpeg, .png\")\n",
    "    \n",
    "    uploaded = files.upload()\n",
    "    \n",
    "    for filename in uploaded.keys():\n",
    "        print(f\"\\n🔍 Processing uploaded image: {filename}\")\n",
    "        print(\"=\" * 50)\n",
    "        \n",
    "        # Save uploaded file\n",
    "        with open(filename, 'wb') as f:\n",
    "            f.write(uploaded[filename])\n",
    "        \n",
    "        # Process image\n",
    "        result_img, detected_plates = detect_license_plate(filename)\n",
    "        \n",
    "        if result_img is not None:\n",
    "            print(\"\\n\" + \"=\" * 50)\n",
    "            print(f\"🎯 RESULT: {detected_plates if detected_plates else 'NO DETECTION'}\")\n",
    "            print(\"=\" * 50)\n",
    "            \n",
    "            # Display results\n",
    "            fig, axes = plt.subplots(1, 2, figsize=(15, 6))\n",
    "            \n",
    "            # Original\n",
    "            original = cv2.imread(filename)\n",
    "            axes[0].imshow(cv2.cvtColor(original, cv2.COLOR_BGR2RGB))\n",
    "            axes[0].set_title(\"🖼️ Your Image\", fontsize=14, fontweight='bold')\n",
    "            axes[0].axis('off')\n",
    "            \n",
    "            # Result\n",
    "            axes[1].imshow(cv2.cvtColor(result_img, cv2.COLOR_BGR2RGB))\n",
    "            result_title = f\"🎯 Result: {detected_plates if detected_plates else 'No detection'}\"\n",
    "            axes[1].set_title(result_title, fontsize=14, fontweight='bold')\n",
    "            axes[1].axis('off')\n",
    "            \n",
    "            plt.tight_layout()\n",
    "            plt.show()\n",
    "            \n",
    "            # Summary\n",
    "            print(f\"\\n📊 SUMMARY:\")\n",
    "            print(f\"   📁 File: {filename}\")\n",
    "            print(f\"   📏 Size: {original.shape[1]}x{original.shape[0]}\")\n",
    "            if detected_plates:\n",
    "                for i, plate in enumerate(detected_plates, 1):\n",
    "                    print(f\"   🚗 License Plate {i}: {plate}\")\n",
    "            else:\n",
    "                print(\"   ❌ No license plate detected\")\n",
    "                print(\"   💡 Try with a clearer image or different angle\")\n",
    "        else:\n",
    "            print(\"❌ Failed to process uploaded image\")\n",
    "\n",
    "# Uncomment the line below to upload and test your image\n",
    "# upload_and_test()"
   ]
  },
  {
   "cell_type": "markdown",
   "metadata": {
    "id": "instructions"
   },
   "source": [
    "## 📝 Hướng Dẫn Sử Dụng\n",
    "\n",
    "### 🚀 Cách sử dụng:\n",
    "1. **Chạy Cell 1**: Clone repository và setup\n",
    "2. **Chạy Cell 2**: Install dependencies từ requirement.txt\n",
    "3. **Chạy Cell 3**: Import libraries và check files\n",
    "4. **Chạy Cell 4**: Load YOLOv5 models (đợi 2-3 phút)\n",
    "5. **Chạy Cell 5**: Define detection function\n",
    "6. **Chạy Cell 6**: Test với ảnh mẫu\n",
    "7. **Chạy Cell 7**: Upload ảnh của bạn (uncomment dòng cuối)\n",
    "\n",
    "### 💡 Tips để có kết quả tốt:\n",
    "- **Chọn GPU Runtime** để xử lý nhanh hơn\n",
    "- **Sử dụng ảnh rõ nét** và chất lượng cao\n",
    "- **Biển số không bị che khuất** hoặc mờ\n",
    "- **Góc chụp thẳng** cho kết quả tốt nhất\n",
    "- **Ánh sáng đủ** để nhìn rõ ký tự\n",
    "\n",
    "### 🔧 Khắc phục sự cố:\n",
    "- **Models không load được**: \n",
    "  - Runtime → Restart Runtime và chạy lại\n",
    "  - Đảm bảo đã chọn GPU runtime\n",
    "- **Lỗi import**: Kiểm tra cấu trúc repository\n",
    "- **Không nhận dạng được**: \n",
    "  - Thử ảnh khác rõ nét hơn\n",
    "  - Kiểm tra biển số có bị che không\n",
    "  - Thử góc chụp khác\n",
    "\n",
    "### ✨ Ưu điểm của version này:\n",
    "- **Sử dụng requirement.txt** - Chuyên nghiệp và đơn giản\n",
    "- **Cài đặt tự động** - Không cần install thủ công từng package\n",
    "- **Ít lỗi hơn** - Dependencies được quản lý tốt\n",
    "- **Dễ maintain** - Dễ cập nhật và bảo trì\n",
    "\n",
    "---\n",
    "**🚗 Chúc bạn nhận dạng biển số thành công! 🎉**"
   ]
  }
 ],
 "metadata": {
  "accelerator": "GPU",
  "colab": {
   "gpuType": "T4",
   "provenance": []
  },
  "kernelspec": {
   "display_name": "Python 3",
   "language": "python",
   "name": "python3"
  },
  "language_info": {
   "codemirror_mode": {
    "name": "ipython",
    "version": 3
   },
   "file_extension": ".py",
   "mimetype": "text/x-python",
   "name": "python",
   "nbconvert_exporter": "python",
   "pygments_lexer": "ipython3",
   "version": "3.8.10"
  }
 },
 "nbformat": 4,
 "nbformat_minor": 4
}
