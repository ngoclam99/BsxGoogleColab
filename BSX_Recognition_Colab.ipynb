{
 "cells": [
  {
   "cell_type": "markdown",
   "metadata": {
    "id": "title"
   },
   "source": [
    "# 🚗 Nhận Dạng Biển Số Xe Việt Nam\n",
    "\n",
    "## Vietnamese License Plate Recognition\n",
    "\n",
    "### 🎯 Tính năng:\n",
    "- Phát hiện biển số xe trong ảnh\n",
    "- Nhận dạng ký tự và số trên biển số\n",
    "- Hỗ trợ biển số 1 dòng và 2 dòng\n",
    "\n",
    "### 📋 Hướng dẫn:\n",
    "1. Chọn GPU Runtime: Runtime → Change runtime type → GPU\n",
    "2. Chạy từng cell theo thứ tự\n",
    "3. Đợi cell hoàn thành trước khi chạy cell tiếp theo\n",
    "\n",
    "---"
   ]
  },
  {
   "cell_type": "markdown",
   "metadata": {
    "id": "setup"
   },
   "source": [
    "## 1. Setup và Clone Repository"
   ]
  },
  {
   "cell_type": "code",
   "execution_count": null,
   "metadata": {
    "id": "clone"
   },
   "outputs": [],
   "source": [
    "import os\n",
    "import sys\n",
    "\n",
    "# Clone repository\n",
    "if not os.path.exists('BsxGoogleColab'):\n",
    "    print(\"🔄 Cloning repository...\")\n",
    "    !git clone https://github.com/ngoclam99/BsxGoogleColab.git\n",
    "    print(\"✅ Clone successful!\")\n",
    "else:\n",
    "    print(\"✅ Repository already exists!\")\n",
    "\n",
    "# Change directory\n",
    "os.chdir('BsxGoogleColab')\n",
    "print(f\"📁 Current directory: {os.getcwd()}\")\n",
    "\n",
    "# Add to Python path\n",
    "if os.getcwd() not in sys.path:\n",
    "    sys.path.append(os.getcwd())"
   ]
  },
  {
   "cell_type": "markdown",
   "metadata": {
    "id": "install"
   },
   "source": [
    "## 2. Install Dependencies"
   ]
  },
  {
   "cell_type": "code",
   "execution_count": null,
   "metadata": {
    "id": "dependencies"
   },
   "outputs": [],
   "source": [
    "# Install required packages\n",
    "print(\"📦 Installing dependencies...\")\n",
    "!pip install -q opencv-python-headless matplotlib numpy Pillow torch torchvision tqdm pyyaml requests pandas seaborn\n",
    "print(\"✅ Installation complete!\")"
   ]
  },
  {
   "cell_type": "markdown",
   "metadata": {
    "id": "imports"
   },
   "source": [
    "## 3. Import Libraries"
   ]
  },
  {
   "cell_type": "code",
   "execution_count": null,
   "metadata": {
    "id": "import_libs"
   },
   "outputs": [],
   "source": [
    "# Import libraries\n",
    "import cv2\n",
    "import torch\n",
    "import numpy as np\n",
    "import matplotlib.pyplot as plt\n",
    "import glob\n",
    "from PIL import Image\n",
    "import warnings\n",
    "warnings.filterwarnings('ignore')\n",
    "\n",
    "# Import helper functions\n",
    "try:\n",
    "    import function.utils_rotate as utils_rotate\n",
    "    import function.helper as helper\n",
    "    print(\"✅ Helper functions imported successfully!\")\n",
    "except ImportError as e:\n",
    "    print(f\"❌ Error importing helpers: {e}\")\n",
    "\n",
    "# Check files\n",
    "required_files = ['model/LP_detector.pt', 'model/LP_ocr.pt', 'yolov5']\n",
    "for file in required_files:\n",
    "    if os.path.exists(file):\n",
    "        print(f\"✅ {file} exists\")\n",
    "    else:\n",
    "        print(f\"❌ {file} missing\")\n",
    "\n",
    "print(\"✅ Setup complete!\")"
   ]
  },
  {
   "cell_type": "markdown",
   "metadata": {
    "id": "models"
   },
   "source": [
    "## 4. Load Models"
   ]
  },
  {
   "cell_type": "code",
   "execution_count": null,
   "metadata": {
    "id": "load_models"
   },
   "outputs": [],
   "source": [
    "# Load YOLOv5 models\n",
    "print(\"🤖 Loading models...\")\n",
    "print(\"⏳ This may take 2-3 minutes...\")\n",
    "\n",
    "try:\n",
    "    # Load detection model\n",
    "    yolo_LP_detect = torch.hub.load('yolov5', 'custom', path='model/LP_detector.pt', force_reload=True, source='local')\n",
    "    print(\"✅ LP Detection model loaded!\")\n",
    "    \n",
    "    # Load OCR model\n",
    "    yolo_license_plate = torch.hub.load('yolov5', 'custom', path='model/LP_ocr.pt', force_reload=True, source='local')\n",
    "    print(\"✅ LP OCR model loaded!\")\n",
    "    \n",
    "    # Set confidence\n",
    "    yolo_license_plate.conf = 0.60\n",
    "    \n",
    "    print(\"🎉 All models ready!\")\n",
    "    \n",
    "except Exception as e:\n",
    "    print(f\"❌ Error loading models: {e}\")\n",
    "    print(\"💡 Try: Runtime → Restart Runtime and run again\")"
   ]
  },
  {
   "cell_type": "markdown",
   "metadata": {
    "id": "function"
   },
   "source": [
    "## 5. Detection Function"
   ]
  },
  {
   "cell_type": "code",
   "execution_count": null,
   "metadata": {
    "id": "detect_function"
   },
   "outputs": [],
   "source": [
    "def detect_license_plate(image_path):\n",
    "    \"\"\"Detect and recognize license plate\"\"\"\n",
    "    \n",
    "    print(f\"🔍 Processing: {image_path}\")\n",
    "    \n",
    "    # Read image\n",
    "    img = cv2.imread(image_path)\n",
    "    if img is None:\n",
    "        print(f\"❌ Cannot read image: {image_path}\")\n",
    "        return None, None\n",
    "    \n",
    "    try:\n",
    "        # Detect license plates\n",
    "        plates = yolo_LP_detect(img, size=640)\n",
    "        list_plates = plates.pandas().xyxy[0].values.tolist()\n",
    "        list_read_plates = set()\n",
    "        \n",
    "        print(f\"🎯 Found {len(list_plates)} license plate regions\")\n",
    "        \n",
    "        if len(list_plates) == 0:\n",
    "            # Try reading entire image\n",
    "            lp = helper.read_plate(yolo_license_plate, img)\n",
    "            if lp != \"unknown\":\n",
    "                list_read_plates.add(lp)\n",
    "        else:\n",
    "            # Process each detected plate\n",
    "            for i, plate in enumerate(list_plates):\n",
    "                x = int(plate[0])\n",
    "                y = int(plate[1])\n",
    "                w = int(plate[2] - plate[0])\n",
    "                h = int(plate[3] - plate[1])\n",
    "                \n",
    "                # Crop license plate\n",
    "                crop_img = img[y:y+h, x:x+w]\n",
    "                \n",
    "                # Draw rectangle\n",
    "                cv2.rectangle(img, (x, y), (x+w, y+h), (0, 255, 0), 3)\n",
    "                \n",
    "                # Try different image processing\n",
    "                found = False\n",
    "                for cc in range(0, 2):\n",
    "                    for ct in range(0, 2):\n",
    "                        processed_img = utils_rotate.deskew(crop_img, cc, ct)\n",
    "                        lp = helper.read_plate(yolo_license_plate, processed_img)\n",
    "                        if lp != \"unknown\":\n",
    "                            list_read_plates.add(lp)\n",
    "                            found = True\n",
    "                            break\n",
    "                    if found:\n",
    "                        break\n",
    "        \n",
    "        # Add text to image\n",
    "        if list_read_plates:\n",
    "            y_offset = 30\n",
    "            for plate_text in list_read_plates:\n",
    "                cv2.putText(img, plate_text, (10, y_offset), cv2.FONT_HERSHEY_SIMPLEX, 1, (0, 255, 0), 2)\n",
    "                y_offset += 40\n",
    "        \n",
    "        if list_read_plates:\n",
    "            print(f\"✅ Result: {list_read_plates}\")\n",
    "        else:\n",
    "            print(\"❌ No license plate recognized\")\n",
    "        \n",
    "        return img, list_read_plates\n",
    "        \n",
    "    except Exception as e:\n",
    "        print(f\"❌ Error: {e}\")\n",
    "        return None, None\n",
    "\n",
    "print(\"✅ Detection function ready!\")"
   ]
  },
  {
   "cell_type": "markdown",
   "metadata": {
    "id": "test"
   },
   "source": [
    "## 6. Test with Sample Images"
   ]
  },
  {
   "cell_type": "code",
   "execution_count": null,
   "metadata": {
    "id": "test_sample"
   },
   "outputs": [],
   "source": [
    "# Find test images\n",
    "test_images = glob.glob(\"test_image/*.jpg\") + glob.glob(\"test_image/*.png\")\n",
    "\n",
    "if test_images:\n",
    "    print(f\"🖼️ Found {len(test_images)} test images:\")\n",
    "    for i, img in enumerate(test_images):\n",
    "        print(f\"   {i}: {img}\")\n",
    "    \n",
    "    # Test first image\n",
    "    test_img = test_images[0]  # Change index to test different image\n",
    "    \n",
    "    print(f\"\\n🚀 Testing: {test_img}\")\n",
    "    print(\"=\" * 50)\n",
    "    \n",
    "    result_img, detected_plates = detect_license_plate(test_img)\n",
    "    \n",
    "    if result_img is not None:\n",
    "        # Display results\n",
    "        fig, axes = plt.subplots(1, 2, figsize=(15, 6))\n",
    "        \n",
    "        # Original image\n",
    "        original = cv2.imread(test_img)\n",
    "        axes[0].imshow(cv2.cvtColor(original, cv2.COLOR_BGR2RGB))\n",
    "        axes[0].set_title(\"Original Image\")\n",
    "        axes[0].axis('off')\n",
    "        \n",
    "        # Result image\n",
    "        axes[1].imshow(cv2.cvtColor(result_img, cv2.COLOR_BGR2RGB))\n",
    "        result_title = f\"Result: {detected_plates if detected_plates else 'No detection'}\"\n",
    "        axes[1].set_title(result_title)\n",
    "        axes[1].axis('off')\n",
    "        \n",
    "        plt.tight_layout()\n",
    "        plt.show()\n",
    "        \n",
    "        print(f\"\\n📊 SUMMARY:\")\n",
    "        print(f\"   File: {test_img}\")\n",
    "        print(f\"   Size: {original.shape[1]}x{original.shape[0]}\")\n",
    "        print(f\"   Plates found: {len(detected_plates) if detected_plates else 0}\")\n",
    "        if detected_plates:\n",
    "            for i, plate in enumerate(detected_plates, 1):\n",
    "                print(f\"   Plate {i}: {plate}\")\n",
    "else:\n",
    "    print(\"❌ No test images found\")"
   ]
  },
  {
   "cell_type": "markdown",
   "metadata": {
    "id": "upload"
   },
   "source": [
    "## 7. Upload Your Own Image"
   ]
  },
  {
   "cell_type": "code",
   "execution_count": null,
   "metadata": {
    "id": "upload_test"
   },
   "outputs": [],
   "source": [
    "from google.colab import files\n",
    "\n",
    "def upload_and_test():\n",
    "    \"\"\"Upload and test your own image\"\"\"\n",
    "    print(\"📤 Select image file from your computer...\")\n",
    "    uploaded = files.upload()\n",
    "    \n",
    "    for filename in uploaded.keys():\n",
    "        print(f\"\\n🔍 Processing: {filename}\")\n",
    "        print(\"=\" * 40)\n",
    "        \n",
    "        # Save uploaded file\n",
    "        with open(filename, 'wb') as f:\n",
    "            f.write(uploaded[filename])\n",
    "        \n",
    "        # Process image\n",
    "        result_img, detected_plates = detect_license_plate(filename)\n",
    "        \n",
    "        if result_img is not None:\n",
    "            # Display results\n",
    "            fig, axes = plt.subplots(1, 2, figsize=(15, 6))\n",
    "            \n",
    "            # Original\n",
    "            original = cv2.imread(filename)\n",
    "            axes[0].imshow(cv2.cvtColor(original, cv2.COLOR_BGR2RGB))\n",
    "            axes[0].set_title(\"Your Image\")\n",
    "            axes[0].axis('off')\n",
    "            \n",
    "            # Result\n",
    "            axes[1].imshow(cv2.cvtColor(result_img, cv2.COLOR_BGR2RGB))\n",
    "            result_title = f\"Result: {detected_plates if detected_plates else 'No detection'}\"\n",
    "            axes[1].set_title(result_title)\n",
    "            axes[1].axis('off')\n",
    "            \n",
    "            plt.tight_layout()\n",
    "            plt.show()\n",
    "            \n",
    "            print(f\"\\n📊 RESULT:\")\n",
    "            print(f\"   File: {filename}\")\n",
    "            if detected_plates:\n",
    "                for i, plate in enumerate(detected_plates, 1):\n",
    "                    print(f\"   License Plate {i}: {plate}\")\n",
    "            else:\n",
    "                print(\"   No license plate detected\")\n",
    "\n",
    "# Uncomment the line below to upload and test your image\n",
    "# upload_and_test()"
   ]
  },
  {
   "cell_type": "markdown",
   "metadata": {
    "id": "instructions"
   },
   "source": [
    "## 📝 Instructions\n",
    "\n",
    "### How to use:\n",
    "1. **Run cells 1-4** to setup and load models\n",
    "2. **Run cell 5** to define detection function\n",
    "3. **Run cell 6** to test with sample images\n",
    "4. **Run cell 7** to upload your own image (uncomment the last line)\n",
    "\n",
    "### Tips:\n",
    "- Choose **GPU Runtime** for faster processing\n",
    "- Use **clear, high-quality images** for better results\n",
    "- **License plates should be visible** and not obscured\n",
    "- **Straight angle photos** work best\n",
    "\n",
    "### Troubleshooting:\n",
    "- **Models won't load**: Restart Runtime and try again\n",
    "- **Import errors**: Check repository structure\n",
    "- **No detection**: Try different images or better quality photos\n",
    "\n",
    "---\n",
    "**🚗 Good luck with license plate recognition! 🎉**"
   ]
  }
 ],
 "metadata": {
  "accelerator": "GPU",
  "colab": {
   "gpuType": "T4",
   "provenance": []
  },
  "kernelspec": {
   "display_name": "Python 3",
   "language": "python",
   "name": "python3"
  },
  "language_info": {
   "codemirror_mode": {
    "name": "ipython",
    "version": 3
   },
   "file_extension": ".py",
   "mimetype": "text/x-python",
   "name": "python",
   "nbconvert_exporter": "python",
   "pygments_lexer": "ipython3",
   "version": "3.8.10"
  }
 },
 "nbformat": 4,
 "nbformat_minor": 4
}
